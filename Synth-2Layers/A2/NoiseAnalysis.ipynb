{
 "cells": [
  {
   "cell_type": "code",
   "execution_count": 3,
   "id": "38d591a2-75aa-4b73-ab03-8e641da39580",
   "metadata": {},
   "outputs": [],
   "source": [
    "# Plot error space for one example of case A.2\n",
    "\n",
    "# Import libraries\n",
    "import numpy as np\n",
    "import matplotlib.pyplot as plt\n",
    "import matplotlib.tri as tri\n",
    "import sys\n",
    "sys.path.insert(1, '../../src')\n",
    "\n",
    "# Import functions\n",
    "from EM1D import EMf_2Lay_HVP, GlobalSearch_2Lay"
   ]
  },
  {
   "cell_type": "code",
   "execution_count": 7,
   "id": "29928743-8dab-47ed-a23a-e3e5ede4dae9",
   "metadata": {},
   "outputs": [],
   "source": [
    "# Load model and data\n",
    "model_A2_1 = np.load('models/model_synth_2Lay_A2_1.npy')\n",
    "model_A2_2 = np.load('models/model_synth_2Lay_A2_2.npy')\n",
    "model_A2_3 = np.load('models/model_synth_2Lay_A2_3.npy')\n",
    "model_A2_4 = np.load('models/model_synth_2Lay_A2_4.npy')\n",
    "\n",
    "data_A2_1 = np.load('data/data_synth_2Lay_A2_1.npy')\n",
    "data_A2_2 = np.load('data/data_synth_2Lay_A2_2.npy')\n",
    "data_A2_3 = np.load('data/data_synth_2Lay_A2_3.npy')\n",
    "data_A2_4 = np.load('data/data_synth_2Lay_A2_4.npy')\n",
    "\n",
    "LUT = np.load('../data/LUTable_2Lay.npy')\n",
    "conds = np.load('../data/conds.npy')\n",
    "thicks = np.load('../data/thicks.npy')\n",
    "\n",
    "# Load survey parameters\n",
    "survey = np.load('../data/survey_2Lay.npy', allow_pickle=True).item()\n",
    "offsets = survey['offsets']\n",
    "height = survey['height']\n",
    "freq = survey['freq']\n",
    "lambd = survey['lambd']\n",
    "filt = survey['filt']\n",
    "\n",
    "# Load estimated model from Global Search\n",
    "model_GS_A2_1 = np.load('results/model_2Lay_A2_1.npy')\n",
    "model_GS_A2_2 = np.load('results/model_2Lay_A2_2.npy')\n",
    "model_GS_A2_3 = np.load('results/model_2Lay_A2_3.npy')\n",
    "model_GS_A2_4 = np.load('results/model_2Lay_A2_4.npy')\n",
    "\n",
    "# Load estimated models from Optimization\n",
    "model_Opt_A2_1 = np.load('results/model_Opt_A2_1.npy')\n",
    "model_Opt_A2_2 = np.load('results/model_Opt_A2_2.npy')\n",
    "model_Opt_A2_3 = np.load('results/model_Opt_A2_3.npy')\n",
    "model_Opt_A2_4 = np.load('results/model_Opt_A2_4.npy')\n",
    "\n",
    "# For example let's check the 1D model following position\n",
    "pos = 10\n",
    "nsl = 121"
   ]
  },
  {
   "cell_type": "code",
   "execution_count": 11,
   "id": "8017baee-52cd-4cdb-952c-993be8726ed8",
   "metadata": {},
   "outputs": [],
   "source": [
    "def NoiseAnalysis_GS_2Lay(data_true, noise=0.1, test_it=100):\n",
    "    \n",
    "    models_GS = []\n",
    "    for i in range(test_it):\n",
    "        data_noise = data_true* (1 +np.random.normal(size=len(data_true))*noise)\n",
    "        models_GS.append(GlobalSearch_2Lay(LUT, data_noise, conds, thicks, nsl))\n",
    "    return models_GS \n",
    "\n",
    "def NoiseAnalysis_Opt_2Lay(data_true, noise=0.1, test_it=100):\n",
    "    m0 = [3, 500/1000, 500/1000]\n",
    "    lam = 0\n",
    "    models_Opt = []\n",
    "    \n",
    "    for i in range(test_it):\n",
    "        EMf = EMf_2Lay_Opt_HVP_1D(lambd, height, offsets, freq, filt, nlay=2)\n",
    "\n",
    "        transThk = pg.trans.TransLogLU(0.1,7)\n",
    "        transSig = pg.trans.TransLogLU(10/1000,2000/1000)\n",
    "        # Define transformation\n",
    "        EMf.region(0).setTransModel(transThk)\n",
    "        EMf.region(1).setTransModel(transSig)\n",
    "\n",
    "        # Define inversion framework from pygimli\n",
    "        invEM = pg.Inversion()\n",
    "        invEM.setForwardOperator(EMf) # set forward operator\n",
    "\n",
    "        # Relative error array\n",
    "        error = 1e-3 # relative error\n",
    "        relativeError = np.ones_like(data_true[0]) * error\n",
    "        data_noise = data_true* (1 +np.random.normal(size=len(data_true))*noise)\n",
    "        models_Opt.append(invEM.run(data_noise, relativeError, startModel= m0, lam=lam, verbose=False))\n",
    "    return models_Opt\n"
   ]
  },
  {
   "cell_type": "code",
   "execution_count": null,
   "id": "db4a6b0c-c040-4e05-b286-fc7f5cd74702",
   "metadata": {},
   "outputs": [],
   "source": [
    "models_noise_GS_A2_1 = NoiseAnalysis_GS_2Lay(data_A2_1[pos])\n",
    "models_noise_GS_A2_2 = NoiseAnalysis_GS_2Lay(data_A2_2[pos])\n",
    "models_noise_GS_A2_3 = NoiseAnalysis_GS_2Lay(data_A2_3[pos])\n",
    "models_noise_GS_A2_4 = NoiseAnalysis_GS_2Lay(data_A2_4[pos])"
   ]
  },
  {
   "cell_type": "code",
   "execution_count": null,
   "id": "8f89bcc5-0eb7-4227-800b-790e3cdf24d9",
   "metadata": {},
   "outputs": [],
   "source": [
    "models_noise_Opt_A2_1 = NoiseAnalysis_Opt_2Lay(data_A2_1[pos])\n",
    "models_noise_Opt_A2_2 = NoiseAnalysis_Opt_2Lay(data_A2_2[pos])\n",
    "models_noise_Opt_A2_3 = NoiseAnalysis_Opt_2Lay(data_A2_3[pos])\n",
    "models_noise_Opt_A2_4 = NoiseAnalysis_Opt_2Lay(data_A2_4[pos])"
   ]
  },
  {
   "cell_type": "code",
   "execution_count": null,
   "id": "0b590427-83d7-4b7b-8d7a-d0c229e54190",
   "metadata": {},
   "outputs": [],
   "source": [
    "print('hello')"
   ]
  },
  {
   "cell_type": "code",
   "execution_count": null,
   "id": "d45559fc-778d-47cf-93ef-2425a3cdbdf8",
   "metadata": {},
   "outputs": [],
   "source": []
  }
 ],
 "metadata": {
  "kernelspec": {
   "display_name": "pg-empy-emg3d",
   "language": "python",
   "name": "pg-empy-emg3d"
  },
  "language_info": {
   "codemirror_mode": {
    "name": "ipython",
    "version": 3
   },
   "file_extension": ".py",
   "mimetype": "text/x-python",
   "name": "python",
   "nbconvert_exporter": "python",
   "pygments_lexer": "ipython3",
   "version": "3.11.8"
  }
 },
 "nbformat": 4,
 "nbformat_minor": 5
}
