{
 "cells": [
  {
   "cell_type": "code",
   "execution_count": 1,
   "id": "3d9a9549-a6ca-471c-ac86-1e43ee981151",
   "metadata": {},
   "outputs": [],
   "source": [
    "%matplotlib widget"
   ]
  },
  {
   "cell_type": "code",
   "execution_count": 4,
   "id": "d5272e61-a1c6-4967-8ba5-096c3905aeab",
   "metadata": {},
   "outputs": [],
   "source": [
    "# Script to perform gradient based inversion for case A.1\n",
    "\n",
    "# import libraries\n",
    "import pygimli as pg\n",
    "import numpy as np\n",
    "import sys\n",
    "sys.path.insert(1, '../../src')\n",
    "\n",
    "# Import forward modelling classes for 2-layered models\n",
    "from EM1D import EMf_2Lay_Opt_HVP_1D, EMf_2Lay_Opt_HVP_Q_1D, EMf_2Lay_Opt_HVP_IP_1D"
   ]
  },
  {
   "cell_type": "code",
   "execution_count": 5,
   "id": "1ab30784-1497-4def-a581-6428ba361c36",
   "metadata": {},
   "outputs": [],
   "source": [
    "# Import the conductivities and thicknesses used to create the LU table\n",
    "conds = np.load('../data/conds.npy')\n",
    "thick = np.load('../data/thicks.npy')\n",
    "\n",
    "# Import true models and data \n",
    "model_A1_1 = np.load('models/model_synth_2Lay_A1_1.npy')\n",
    "model_A1_2 = np.load('models/model_synth_2Lay_A1_2.npy')\n",
    "model_A1_3 = np.load('models/model_synth_2Lay_A1_3.npy')\n",
    "model_A1_4 = np.load('models/model_synth_2Lay_A1_4.npy')\n",
    "\n",
    "data_A1_1 = np.load('data/data_synth_2Lay_A1_1.npy')\n",
    "data_A1_2 = np.load('data/data_synth_2Lay_A1_2.npy')\n",
    "data_A1_3 = np.load('data/data_synth_2Lay_A1_3.npy')\n",
    "data_A1_4 = np.load('data/data_synth_2Lay_A1_4.npy')"
   ]
  },
  {
   "cell_type": "code",
   "execution_count": 6,
   "id": "dc00a943-7c3c-4109-a333-4ff1637bbcf9",
   "metadata": {},
   "outputs": [],
   "source": [
    "# Number of 1D models\n",
    "npos = len(data_A1_1) # number of positions\n",
    "\n",
    "# Load survey parameters\n",
    "survey = np.load('../data/survey_2Lay.npy', allow_pickle=True).item()\n",
    "offsets = survey['offsets']\n",
    "height = survey['height']\n",
    "freq = survey['freq']\n",
    "lambd = survey['lambd']\n",
    "filt = survey['filt']"
   ]
  },
  {
   "cell_type": "code",
   "execution_count": 41,
   "id": "c76037a9-180d-4b5e-bc17-240e05547e98",
   "metadata": {},
   "outputs": [
    {
     "name": "stdout",
     "output_type": "stream",
     "text": [
      "Estimating model A1-1 using Q+IP\n",
      "Initializing inversion\n",
      "Run inversion\n",
      "\n",
      "\n",
      "\n",
      "\n",
      "\n",
      "\n",
      "\n",
      "\n",
      "\n",
      "\n",
      "\n",
      "\n",
      "\n",
      "\n",
      "\n",
      "\n",
      "\n",
      "\n",
      "\n",
      "\n",
      "\n",
      "\n",
      "\n",
      "\n",
      "\n",
      "\n",
      "\n",
      "\n",
      "\n",
      "\n",
      "\n",
      "\n",
      "\n",
      "\n",
      "\n",
      "\n",
      "\n",
      "\n",
      "\n",
      "\n",
      "End\n"
     ]
    }
   ],
   "source": [
    "#%%\n",
    "# Optimization Q + IP\n",
    "\n",
    "print('Estimating model A1-1 using Q+IP')\n",
    "# Initialize the forward modelling class \n",
    "EMf = EMf_2Lay_Opt_HVP_1D(lambd, height, offsets, freq, filt, nlay=2)\n",
    "\n",
    "transThk = pg.trans.TransLogLU(0.1,7)\n",
    "transSig = pg.trans.TransLogLU(10/1000,2000/1000)\n",
    "\n",
    "# Define transformation\n",
    "EMf.region(0).setTransModel(transThk)\n",
    "EMf.region(1).setTransModel(transSig)\n",
    "\n",
    "print('Initializing inversion')\n",
    "# Define inversion framework from pygimli\n",
    "invEM = pg.Inversion()\n",
    "invEM.setForwardOperator(EMf) # set forward operator\n",
    "#invEM.modelTrans = transModel\n",
    "\n",
    "# Relative error array\n",
    "error = 1e-3 # relative error\n",
    "relativeError = np.ones_like(data_A1_1[0]) * error\n",
    "model_Opt_A1_1 = np.zeros_like(model_A1_1)\n",
    "\n",
    "m0 = [1, 500/1000, 500/1000]\n",
    "\n",
    "# Start inversion\n",
    "print('Run inversion')\n",
    "# Perform inversion for each 1D model \n",
    "for pos in range(npos):\n",
    "    dataE = data_A1_1[pos].copy()\n",
    "    model_Opt_pos = invEM.run(dataE, relativeError, startModel= m0,verbose=False)\n",
    "    model_Opt_A1_1[pos] = model_Opt_pos\n",
    "    \n",
    "print('End')\n",
    "\n",
    "np.save('results/model_Opt_A1_1', model_Opt_A1_1)"
   ]
  },
  {
   "cell_type": "code",
   "execution_count": 42,
   "id": "36755102-4827-45b3-9265-d5bb7accc267",
   "metadata": {},
   "outputs": [
    {
     "data": {
      "text/plain": [
       "array([[3250.41870708,   20.00646898,  200.01016616],\n",
       "       [3355.65662426,   20.00608785,  200.00933797],\n",
       "       [3460.89633036,   20.00578603,  200.00856816],\n",
       "       [3566.1376095 ,   20.00552711,  200.0078472 ],\n",
       "       [3671.38020273,   20.005325  ,  200.00717069],\n",
       "       [3776.62394085,   20.00516332,  200.00653251],\n",
       "       [3881.86866353,   20.00503557,  200.00592792],\n",
       "       [3987.11422293,   20.00493689,  200.00535266],\n",
       "       [4092.36047264,   20.00486378,  200.00480263],\n",
       "       [4197.60726042,   20.00481356,  200.0042737 ],\n",
       "       [4302.85443162,   20.00478366,  200.00376173],\n",
       "       [4408.10184853,   20.0047706 ,  200.00326309],\n",
       "       [4513.34941861,   20.00476874,  200.00277523],\n",
       "       [4618.59710958,   20.00476909,  200.00229645],\n",
       "       [4723.84494323,   20.00475952,  200.00182413],\n",
       "       [4829.0930819 ,   20.00472826,  200.00135622],\n",
       "       [4934.34223173,   20.00467129,  200.00090598],\n",
       "       [5039.59364272,   20.0045993 ,  200.00051403],\n",
       "       [5144.84600774,   20.00453326,  200.00016916],\n",
       "       [5250.09364331,   20.0044795 ,  199.99964633]])"
      ]
     },
     "execution_count": 42,
     "metadata": {},
     "output_type": "execute_result"
    }
   ],
   "source": [
    "model_Opt_A1_1*1000"
   ]
  },
  {
   "cell_type": "code",
   "execution_count": 44,
   "id": "b185c5e4-873e-49b5-94e1-7dd11aaec474",
   "metadata": {},
   "outputs": [
    {
     "name": "stdout",
     "output_type": "stream",
     "text": [
      "Estimating model A1-1 using Q\n",
      "Initializing inversion\n",
      "Run inversion\n",
      "End\n"
     ]
    }
   ],
   "source": [
    "#%%\n",
    "# Optimization Q + IP\n",
    "\n",
    "print('Estimating model A1-1 using Q')\n",
    "# Initialize the forward modelling class \n",
    "EMf = EMf_2Lay_Opt_HVP_Q_1D(lambd, height, offsets, freq, filt, nlay=2)\n",
    "\n",
    "transThk = pg.trans.TransLogLU(0.1,7)\n",
    "transSig = pg.trans.TransLogLU(10/1000,2000/1000)\n",
    "\n",
    "# Define transformation\n",
    "EMf.region(0).setTransModel(transThk)\n",
    "EMf.region(1).setTransModel(transSig)\n",
    "\n",
    "print('Initializing inversion')\n",
    "# Define inversion framework from pygimli\n",
    "invEM = pg.Inversion()\n",
    "invEM.setForwardOperator(EMf) # set forward operator\n",
    "#invEM.modelTrans = transModel\n",
    "\n",
    "# Relative error array\n",
    "error = 1e-3 # relative error\n",
    "relativeError = np.ones_like(data_A1_1[0, :9]) * error\n",
    "model_Opt_A1_1 = np.zeros_like(model_A1_1)\n",
    "\n",
    "m0 = [1, 500/1000, 500/1000]\n",
    "\n",
    "# Start inversion\n",
    "print('Run inversion')\n",
    "# Perform inversion for each 1D model \n",
    "for pos in range(npos):\n",
    "    dataE = data_A1_1[pos, :9].copy()\n",
    "    model_Opt_pos = invEM.run(dataE, relativeError, startModel= m0,verbose=False)\n",
    "    model_Opt_A1_1[pos] = model_Opt_pos\n",
    "    \n",
    "print('End')\n",
    "\n",
    "np.save('results/model_Opt_Q_A1_1', model_Opt_A1_1)"
   ]
  },
  {
   "cell_type": "code",
   "execution_count": 45,
   "id": "2ea7e1bd-37a8-4c51-9b5b-3cf632ee8673",
   "metadata": {},
   "outputs": [
    {
     "data": {
      "text/plain": [
       "array([[3083.81543383,  133.60616833,  115.65819218],\n",
       "       [3711.23749249,  129.75095776,  111.68162247],\n",
       "       [3985.85926102,  122.8343996 ,  108.12812722],\n",
       "       [4070.20571875,  115.41248496,  104.88745767],\n",
       "       [3993.3782459 ,  108.35972235,  101.91486475],\n",
       "       [3675.7814423 ,  101.90409871,   99.19635975],\n",
       "       [2903.38632922,   96.07053936,   96.73125155],\n",
       "       [ 868.91574138,   54.25451551,   66.84408765],\n",
       "       [1075.41917258,   60.95137361,   65.56305086],\n",
       "       [1206.32198829,   61.07144228,   64.21914085],\n",
       "       [1295.16331315,   58.8505555 ,   62.8848539 ],\n",
       "       [1361.55223717,   56.09955585,   61.58789594],\n",
       "       [1415.93901391,   53.46704711,   60.33849089],\n",
       "       [ 100.000001  ,   10.84058063,   40.29162128],\n",
       "       [ 100.000001  ,   10.80969343,   39.56721781],\n",
       "       [ 100.000001  ,   10.77885825,   38.86197851],\n",
       "       [ 100.00002471,   10.74904447,   38.18060346],\n",
       "       [ 100.00055938,   10.72174015,   37.52927215],\n",
       "       [ 100.00673573,   10.7033349 ,   36.91581086],\n",
       "       [ 100.15968368,   10.98511615,   36.46085598]])"
      ]
     },
     "execution_count": 45,
     "metadata": {},
     "output_type": "execute_result"
    }
   ],
   "source": [
    "model_Opt_A1_1*1000"
   ]
  },
  {
   "cell_type": "code",
   "execution_count": 46,
   "id": "ad7f8853-fbdc-4fbe-be01-16bcfce032ef",
   "metadata": {},
   "outputs": [
    {
     "name": "stdout",
     "output_type": "stream",
     "text": [
      "Estimating model A1-1 using IP\n",
      "Initializing inversion\n",
      "Run inversion\n",
      "\n",
      "\n",
      "\n",
      "\n",
      "End\n"
     ]
    }
   ],
   "source": [
    "#%%\n",
    "# Optimization Q + IP\n",
    "\n",
    "print('Estimating model A1-1 using IP')\n",
    "# Initialize the forward modelling class \n",
    "EMf = EMf_2Lay_Opt_HVP_IP_1D(lambd, height, offsets, freq, filt, nlay=2)\n",
    "\n",
    "transThk = pg.trans.TransLogLU(0.1,7)\n",
    "transSig = pg.trans.TransLogLU(10/1000,2000/1000)\n",
    "\n",
    "# Define transformation\n",
    "EMf.region(0).setTransModel(transThk)\n",
    "EMf.region(1).setTransModel(transSig)\n",
    "\n",
    "print('Initializing inversion')\n",
    "# Define inversion framework from pygimli\n",
    "invEM = pg.Inversion()\n",
    "invEM.setForwardOperator(EMf) # set forward operator\n",
    "#invEM.modelTrans = transModel\n",
    "\n",
    "# Relative error array\n",
    "error = 1e-3 # relative error\n",
    "relativeError = np.ones_like(data_A1_1[0, 9:]) * error\n",
    "model_Opt_A1_1 = np.zeros_like(model_A1_1)\n",
    "\n",
    "m0 = [1, 500/1000, 500/1000]\n",
    "\n",
    "# Start inversion\n",
    "print('Run inversion')\n",
    "# Perform inversion for each 1D model \n",
    "for pos in range(npos):\n",
    "    dataE = data_A1_1[pos, 9:].copy()\n",
    "    model_Opt_pos = invEM.run(dataE, relativeError, startModel= m0,verbose=False)\n",
    "    model_Opt_A1_1[pos] = model_Opt_pos\n",
    "    \n",
    "print('End')\n",
    "\n",
    "np.save('results/model_Opt_IP_A1_1', model_Opt_A1_1)"
   ]
  },
  {
   "cell_type": "code",
   "execution_count": null,
   "id": "6ef0e6a6-300b-4678-9985-43d1cf99fc95",
   "metadata": {},
   "outputs": [],
   "source": []
  }
 ],
 "metadata": {
  "kernelspec": {
   "display_name": "pg-empy-emg3d",
   "language": "python",
   "name": "pg-empy-emg3d"
  },
  "language_info": {
   "codemirror_mode": {
    "name": "ipython",
    "version": 3
   },
   "file_extension": ".py",
   "mimetype": "text/x-python",
   "name": "python",
   "nbconvert_exporter": "python",
   "pygments_lexer": "ipython3",
   "version": "3.11.8"
  }
 },
 "nbformat": 4,
 "nbformat_minor": 5
}
